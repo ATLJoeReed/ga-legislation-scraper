{
 "cells": [
  {
   "cell_type": "code",
   "execution_count": 1,
   "id": "e96e2111-9f0c-4734-b283-8460508aba29",
   "metadata": {},
   "outputs": [],
   "source": [
    "import codecs\n",
    "import re\n",
    "from unicodedata import normalize\n",
    "\n",
    "from bs4 import BeautifulSoup\n",
    "\n",
    "from utils import helpers"
   ]
  },
  {
   "cell_type": "code",
   "execution_count": 2,
   "id": "3d23ac3c-cfb8-4163-ae1b-e2936bbfaeb1",
   "metadata": {},
   "outputs": [],
   "source": [
    "html = codecs.open(\"research_9.html\", \"r\", \"utf-8\")"
   ]
  },
  {
   "cell_type": "code",
   "execution_count": 3,
   "id": "aa353644-7902-49f7-96cd-b2fc8423ecbe",
   "metadata": {},
   "outputs": [],
   "source": [
    "html = helpers.extract_text_from_html(html)"
   ]
  },
  {
   "cell_type": "code",
   "execution_count": 4,
   "id": "f45849af-2384-4fda-9b5e-f0334e52eb98",
   "metadata": {},
   "outputs": [
    {
     "name": "stdout",
     "output_type": "stream",
     "text": [
      " LC 49 0477S (3) Actions taken by public institutions of higher education, including difficulties, controversies, or successes, in maintaining a posture of administrative and institutional neutrality with regard to political or social issues; and (4) Any assessments, criticisms, commendations, or recommendations the board of regents deems appropriate to further include in the report.\" SECTION 5. This Act shall become effective on July 1, 2021. SECTION 6. All laws and parts of laws in conflict with this Act are repealed. H. B. 1 (SUB) - 10 - \n"
     ]
    }
   ],
   "source": [
    "print(html)"
   ]
  },
  {
   "cell_type": "code",
   "execution_count": null,
   "id": "31a162ad-387a-4719-ba44-c1ddebe85de5",
   "metadata": {},
   "outputs": [],
   "source": []
  },
  {
   "cell_type": "code",
   "execution_count": null,
   "id": "9959b6d0-8390-4b06-be43-1028bef7db4e",
   "metadata": {},
   "outputs": [],
   "source": []
  },
  {
   "cell_type": "code",
   "execution_count": null,
   "id": "0087d544-9792-4938-a199-dd1203293fd3",
   "metadata": {},
   "outputs": [],
   "source": [
    "soup = BeautifulSoup(html.read(), 'html.parser')"
   ]
  },
  {
   "cell_type": "code",
   "execution_count": null,
   "id": "38eb7e1a-f243-4dff-bf19-66d8ca51f65a",
   "metadata": {},
   "outputs": [],
   "source": [
    "text = soup.get_text()"
   ]
  },
  {
   "cell_type": "code",
   "execution_count": null,
   "id": "f4f6e5cf-cfb8-4d45-a311-b6a3f413095b",
   "metadata": {},
   "outputs": [],
   "source": [
    "text"
   ]
  },
  {
   "cell_type": "code",
   "execution_count": null,
   "id": "553b7061-635a-4cac-85d6-584cc500ee91",
   "metadata": {},
   "outputs": [],
   "source": [
    "stripped = lambda s: \"\".join(i for i in s if 31 < ord(i) < 127)"
   ]
  },
  {
   "cell_type": "code",
   "execution_count": null,
   "id": "2965e270-cdcb-42f3-a182-eccfd7ed3bc7",
   "metadata": {},
   "outputs": [],
   "source": []
  },
  {
   "cell_type": "code",
   "execution_count": null,
   "id": "faec010c-418d-409a-bb8d-3f94f4d3befe",
   "metadata": {},
   "outputs": [],
   "source": [
    "stage = normalize('NFKD', text)\n",
    "stage"
   ]
  },
  {
   "cell_type": "code",
   "execution_count": null,
   "id": "70dad2e3-3e19-440d-bcc2-6ea869e91291",
   "metadata": {},
   "outputs": [],
   "source": [
    "stage2 = re.sub('\\\\n([1-9][0-9]*)', ' ', stage)\n",
    "stage3 = re.sub(' +', ' ', stage2)\n",
    "stage3"
   ]
  },
  {
   "cell_type": "code",
   "execution_count": null,
   "id": "01b60ecf-2594-4ca0-99f3-ccba706d7098",
   "metadata": {},
   "outputs": [],
   "source": [
    "stage4 = stripped(stage3).strip()\n",
    "print(stage4)"
   ]
  },
  {
   "cell_type": "code",
   "execution_count": null,
   "id": "cf7d2448-995b-49e7-b1d4-9d00d9c548b1",
   "metadata": {},
   "outputs": [],
   "source": []
  }
 ],
 "metadata": {
  "kernelspec": {
   "display_name": "Python 3",
   "language": "python",
   "name": "python3"
  },
  "language_info": {
   "codemirror_mode": {
    "name": "ipython",
    "version": 3
   },
   "file_extension": ".py",
   "mimetype": "text/x-python",
   "name": "python",
   "nbconvert_exporter": "python",
   "pygments_lexer": "ipython3",
   "version": "3.9.4"
  }
 },
 "nbformat": 4,
 "nbformat_minor": 5
}
