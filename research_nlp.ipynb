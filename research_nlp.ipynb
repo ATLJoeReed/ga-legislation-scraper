{
 "cells": [
  {
   "cell_type": "code",
   "execution_count": 1,
   "id": "5c18dbbd-c08b-4885-9705-e560bd55e277",
   "metadata": {},
   "outputs": [],
   "source": [
    "import json\n",
    "\n",
    "import spacy\n",
    "from spacy.lang.en.stop_words import STOP_WORDS\n",
    "from string import punctuation\n",
    "from collections import Counter\n",
    "from heapq import nlargest"
   ]
  },
  {
   "cell_type": "code",
   "execution_count": 2,
   "id": "b6ebbe7e-1362-4c93-81c3-18fcf4b9af84",
   "metadata": {},
   "outputs": [],
   "source": [
    "# https://spacy.io/usage\n",
    "# need to download the trained pipeline\n",
    "# python -m spacy download en_core_web_sm\n",
    "\n",
    "nlp = spacy.load('en_core_web_sm')"
   ]
  },
  {
   "cell_type": "code",
   "execution_count": 3,
   "id": "2b14a957-6a1b-49cf-8048-5639904a95c0",
   "metadata": {},
   "outputs": [],
   "source": [
    "with open('json_sample_files/legislative_details.json') as json_file:\n",
    "    data = json.load(json_file)"
   ]
  },
  {
   "cell_type": "code",
   "execution_count": 4,
   "id": "00a243a4-f898-47ca-ba6a-74d2b88004b5",
   "metadata": {},
   "outputs": [
    {
     "data": {
      "text/plain": [
       "10"
      ]
     },
     "execution_count": 4,
     "metadata": {},
     "output_type": "execute_result"
    }
   ],
   "source": [
    "len(data)"
   ]
  },
  {
   "cell_type": "code",
   "execution_count": 5,
   "id": "c2c447de-6a1c-4191-be31-f93980b0c83d",
   "metadata": {},
   "outputs": [
    {
     "data": {
      "text/plain": [
       "'Forming Open and Robust University Minds (FORUM) Act; enact'"
      ]
     },
     "execution_count": 5,
     "metadata": {},
     "output_type": "execute_result"
    }
   ],
   "source": [
    "data[0].get('details').get('title')"
   ]
  },
  {
   "cell_type": "code",
   "execution_count": 6,
   "id": "8f9298c4-8b58-4be0-b951-5b18b80dfa5b",
   "metadata": {},
   "outputs": [],
   "source": [
    "doc = data[0].get('document_text')"
   ]
  },
  {
   "cell_type": "code",
   "execution_count": 7,
   "id": "f678ec2e-8abc-48c1-8d1d-9102fd0fd1ff",
   "metadata": {},
   "outputs": [],
   "source": [
    "doc = nlp(doc)"
   ]
  },
  {
   "cell_type": "code",
   "execution_count": 8,
   "id": "36013d74-09c2-4941-95cf-519bdddc32fa",
   "metadata": {},
   "outputs": [
    {
     "data": {
      "text/plain": [
       "64"
      ]
     },
     "execution_count": 8,
     "metadata": {},
     "output_type": "execute_result"
    }
   ],
   "source": [
    "len(list(doc.sents))"
   ]
  },
  {
   "cell_type": "code",
   "execution_count": 9,
   "id": "45612f9e-a828-42e5-bb56-5467cde5830d",
   "metadata": {},
   "outputs": [],
   "source": [
    "keyword = []\n",
    "stopwords = list(STOP_WORDS)\n",
    "pos_tag = ['PROPN', 'ADJ', 'NOUN', 'VERB']\n",
    "for token in doc:\n",
    "    if(token.text in stopwords or token.text in punctuation):\n",
    "        continue\n",
    "    if(token.pos_ in pos_tag):\n",
    "        keyword.append(token.text)"
   ]
  },
  {
   "cell_type": "code",
   "execution_count": 10,
   "id": "60a23cc2-985e-4bd0-83fa-7d0b6375da19",
   "metadata": {},
   "outputs": [
    {
     "name": "stdout",
     "output_type": "stream",
     "text": [
      "[('education', 52), ('public', 47), ('higher', 47), ('campus', 39), ('expressive', 30)]\n"
     ]
    }
   ],
   "source": [
    "freq_word = Counter(keyword)\n",
    "print(freq_word.most_common(5))"
   ]
  },
  {
   "cell_type": "code",
   "execution_count": 11,
   "id": "9b3ae2a0-626a-4960-b975-8b5394c58edf",
   "metadata": {},
   "outputs": [
    {
     "data": {
      "text/plain": [
       "collections.Counter"
      ]
     },
     "execution_count": 11,
     "metadata": {},
     "output_type": "execute_result"
    }
   ],
   "source": [
    "type(freq_word)"
   ]
  },
  {
   "cell_type": "code",
   "execution_count": 12,
   "id": "b91a2d94-f22f-445c-acf2-3ed2b7dfcb8c",
   "metadata": {},
   "outputs": [
    {
     "data": {
      "text/plain": [
       "[('education', 1.0),\n",
       " ('public', 0.9038461538461539),\n",
       " ('higher', 0.9038461538461539),\n",
       " ('campus', 0.75),\n",
       " ('expressive', 0.5769230769230769)]"
      ]
     },
     "execution_count": 12,
     "metadata": {},
     "output_type": "execute_result"
    }
   ],
   "source": [
    "max_freq = Counter(keyword).most_common(1)[0][1]\n",
    "for word in freq_word.keys():  \n",
    "        freq_word[word] = (freq_word[word]/max_freq)\n",
    "freq_word.most_common(5)"
   ]
  },
  {
   "cell_type": "code",
   "execution_count": 13,
   "id": "727be5c4-fa73-4038-b016-0d2a29f2fc6b",
   "metadata": {},
   "outputs": [
    {
     "name": "stdout",
     "output_type": "stream",
     "text": [
      "{LC 49 0477S: 0.38461538461538464, The House Committee on Higher Education offers the following substitute to HB 1: A BILL TO BE ENTITLED AN ACT To amend Title 20 of the Official Code of Georgia Annotated, relating to education generally, so as to provide for public forums at public institutions of higher education within the University System of Georgia and the Technical College System of Georgia for the campus community; to prevent the creation of \"free speech zones\" at such public institutions of higher education; to allow for reasonable, content- and viewpoint-neutral, and narrowly-tailored time, place, and manner restrictions on expressive activity at public institutions of higher education; to prohibit material and substantial disruption of protected expressive activity at public institutions of higher education; to prohibit such public institutions of higher education from denying benefits to or otherwise discriminating against a student organization on the basis of the student organization's religious, political, or ideological positions; to require public institutions of higher education to provide public notice of rules and expectations regarding expressive activity; to require public institutions of higher education to develop materials, programs, and procedures related to expressive activity; to provide for a short title; to provide for definitions; to provide for related matters; to provide for an effective date; to repeal conflicting laws; and for other purposes.: 38.78846153846155, BE IT ENACTED BY THE GENERAL ASSEMBLY OF GEORGIA: H. B. 1 (SUB) - 1 -  LC 49 0477S SECTION 1.: 1.1730769230769231, Title 20 of the Official Code of Georgia Annotated, relating to education generally, is amended by repealing Code Section 20-3-48, relating to adoption of free speech and expression regulations and disciplinary sanctions for interfering with rights, and enacting a new Code Section 20-3-48 to read as follows: \"20-3-48.: 4.192307692307691, (a) This part shall be known and may be cited as the 'Forming Open and Robust University Minds (FORUM) Act.': 0.2884615384615385, (b) As used in this part, the term: (1) 'Benefit' means any of the following conferred upon a student or student organization by a public institution of higher education: recognition; registration; the use of facilities of the public institution of higher education for purposes of meetings or other expressive activity; the use of channels of communication of the public institution of higher education; or funding sources that are otherwise available to other students or student organizations at the public institution of higher education.: 17.038461538461537, (2) 'Campus community' means students, administrators, faculty, and staff at the public institution of higher education and their invited guests.: 4.442307692307692, (3) 'Materially and substantially disrupts' means when a person intentionally engages in conduct or expressive activity which such person knew or reasonably should have known would significantly hinder another person's or group's expressive activity, prevent the communication of the person's or group's message, or prevent the transaction of the business of a lawful meeting, gathering, or procession by: (A): 5.326923076923075, Engaging in fighting, violent, or other unlawful behavior; or (B) Physically blocking, using threats of violence, or creating loud or sustained noise or vocalization intended to prevent any person from attending, listening to, viewing, or otherwise participating in an expressive activity.: 2.403846153846154, H. B. 1 (SUB) - 2 -  LC 49 0477S Conduct or expressive activity shall not be considered a material or substantial disruption if it is protected under the Georgia Constitution or the First Amendment to the United States Constitution, including, but not limited to, lawful protests in an unrestricted outdoor area of campus (except during times when those areas have been reserved in advance for other events) or minor, brief, or fleeting nonviolent disruptions of events that are isolated and short in duration.: 6.480769230769228, (4) 'Public institution of higher education' or 'institution' means any college or university under the management and control of the Board of Regents of the University System of Georgia.: 3.865384615384615, (5) 'Student' means any person who is enrolled on a full-time or part-time basis in a public institution of higher education.: 4.4423076923076925, (6) 'Student on student harassment' means unwelcome conduct or expressive activity directed at a student that is so severe, pervasive, and objectively offensive that a student is effectively denied equal access to educational opportunities or benefits provided by the public institution of higher education.: 6.942307692307692, This term shall not apply to or govern any employment policy of a public institution of higher education relating to harassment.: 3.8461538461538463, (7) 'Student organization' means any association, club, fraternity, society, sorority, or organized group of students, whether academic, athletic, political, social, or otherwise, that is officially recognized by a public institution of higher education.: 4.75, (8) 'Unrestricted outdoor area of campus' means any outdoor area of campus that is generally accessible to members of the campus community, including, but not limited to, grassy areas, walkways, or other common areas, and does not include outdoor areas when and where access to members of the campus community is lawfully restricted.: 7.192307692307691, (c) Unrestricted outdoor areas of campuses of public institutions of higher education in this state shall be deemed public forums for the campus community, and public institutions of higher education shall not create 'free speech zones' or other designated areas of campus outside of which expressive activities are prohibited for the campus community.: 12.673076923076923, H. B. 1 (SUB) - 3 -  LC 49 0477S (d) Public institutions of higher education may maintain and enforce reasonable time, place, and manner restrictions for the campus community narrowly tailored in service of a significant institutional interest only when such restrictions employ clear, published, content- and viewpoint-neutral criteria, and provide for ample alternative means of expression.: 6.846153846153844, Any such restrictions shall allow for members of the campus community to spontaneously and contemporaneously assemble and distribute literature.: 1.6346153846153846, Nothing in this Code section shall be interpreted as limiting the right of student expression elsewhere on campus.: 2.230769230769231, (e) Protected expressive activity under this part consists of speech and other conduct protected by the First Amendment to the United States Constitution, including, but not limited to, lawful verbal, written, audio-visual, or electronic expression by which individuals may communicate ideas to one another, including all forms of peaceful assembly, distributing literature, carrying signs, circulating petitions, demonstrations, protests, and speeches including those by guest speakers.: 4.596153846153844, (f) Any person who wishes to engage in noncommercial expressive activity in an unrestricted outdoor area of campus shall be permitted to do so freely, as long as the person's conduct is not unlawful and does not materially and substantially disrupt the functioning of the public institution of higher education, subject to restrictions lawfully imposed under subsections (c) and (d) of this Code section.: 8.0, Nothing in this Code section shall be construed to make the unrestricted areas of campus into a designated public forum for persons who are not members of the campus community.: 4.230769230769231, (g) Nothing in this part shall be interpreted as preventing public institutions of higher education from prohibiting student on student harassment as defined in this part; from complying with federal and state laws prohibiting discrimination and harassment; or from prohibiting, limiting, or restricting expression that is not protected under the Georgia Constitution or the First Amendment to the United States Constitution, including, but not H. B. 1 (SUB) - 4 -  LC 49 0477S limited to, true threats or expressive activity directed to provoke imminent lawless actions and likely to produce it.: 9.711538461538458, Nothing in this part shall enable individuals to engage in conduct that materially and substantially disrupts another's expressive activity that is occurring in an unrestricted outdoor area of campus or a campus space reserved for that activity under the exclusive use or control of a particular group.: 4.865384615384615, (i) Public institutions of higher education shall make public in their handbooks, on their websites, and through their orientation programs for students the policies, regulations, and expectations of students regarding free expressive activity on campus consistent with this part.: 6.557692307692307, (j) Public institutions of higher education shall develop materials, programs, and procedures to ensure that those persons who have responsibility for discipline or education of students, such as administrators, campus police officers, residence life officials, and professors, understand the policies, regulations, and duties of public institutions of higher education regarding expressive activity on campus consistent with this part.\": 10.96153846153846, SECTION 2.: 0.11538461538461539, Said title is further amended by revising Code Section 20-3-48.1, relating to annual report by board of regents, as follows: \"20-3-48.1.: 1.3269230769230769, The board of regents shall make and publish an annual report and provide a copy to the Governor and each chamber of the General Assembly on July 1 of each year addressing the following from the previous calendar year: (1) Any barriers to, or disruptions of, free expression within state public institutions of higher education; (2) Administrative response and discipline relating to violation of regulations and policies established pursuant to Code Section 20-3-48; H. B. 1 (SUB) - 5 -  LC 49 0477S (3) Actions taken by state public institutions of higher learning education, including difficulties, controversies, or successes, in maintaining a posture of administrative and institutional neutrality with regard to political or social issues; and (4) Any assessments, criticisms, commendations, or recommendations the board of regents deems appropriate to further include in the report.: 12.17307692307692, \" SECTION 3.: 0.11538461538461539, Said title is further amended by repealing and reserving Code Section 20-3-48.2, relating to reasonable time, place, and manner restrictions on speech.: 1.7115384615384615, SECTION 4.: 0.11538461538461539, Said title is further amended in Article 2 of Chapter 4, relating to technical and adult education, by adding a Code section to read as follows: \"20-4-11.1.: 2.3076923076923075, (a) As used in this Code section, the term: (1) 'Benefit' means any of the following conferred upon a student or student organization by a public institution of higher education: recognition; registration; the use of facilities of the public institution of higher education for purposes of meetings or other expressive activity; the use of channels of communication of the public institution of higher education; or funding sources that are otherwise available to other students or student organizations at the public institution of higher education.: 17.73076923076923, (2) 'Campus community' means students, administrators, faculty, and staff at the public institution of higher education and their invited guests.: 4.442307692307692, (3) 'Materially and substantially disrupts' means when a person intentionally engages in conduct or expressive activity which such person knew or reasonably should have known would significantly hinder another person's or group's expressive activity, prevent the H. B. 1 (SUB) - 6 -  LC 49 0477S communication of the person's or group's message, or prevent the transaction of the business of a lawful meeting, gathering, or procession by: (A): 6.288461538461537, Engaging in fighting, violent, or other unlawful behavior; or (B) Physically blocking, using threats of violence, or creating loud or sustained noise or vocalization intended to prevent any person from attending, listening to, viewing, or otherwise participating in an expressive activity.: 2.403846153846154, Conduct or expressive activity shall not be considered a material or substantial disruption if it is protected under the Georgia Constitution or the First Amendment to the United States Constitution, including, but not limited to, lawful protests in an unrestricted outdoor area of campus (except during times when those areas have been reserved in advance for other events) or minor, brief, or fleeting nonviolent disruptions of events that are isolated and short in duration.: 5.5192307692307665, (4) 'Public institution of higher education' or 'institution' means any postsecondary technical school or other postsecondary branch of the Technical College System of Georgia.: 3.9038461538461533, (5) 'Student' means any person who is enrolled on a full-time or part-time basis in a public institution of higher education.: 4.4423076923076925, (6) 'Student on student harassment' means unwelcome conduct or expressive activity directed at a student that is so severe, pervasive, and objectively offensive that a student is effectively denied equal access to educational opportunities or benefits provided by the public institution of higher education.: 6.942307692307692, This term shall not apply to or govern any employment policy of a public institution of higher education relating to harassment.: 3.8461538461538463, (7) 'Student organization' means any association, club, fraternity, society, sorority, or organized group of students, whether academic, athletic, political, social, or otherwise, that is officially recognized by a public institution of higher education.: 4.75, (8) 'Unrestricted outdoor area of campus' means any outdoor area of campus that is generally accessible to members of the campus community, including, but not limited to, H. B. 1 (SUB) - 7 -  LC 49 0477S grassy areas, walkways, or other common areas, and does not include outdoor areas when and where access to members of the campus community is lawfully restricted.: 8.153846153846153, (b) Unrestricted outdoor areas of campuses of public institutions of higher education in this state shall be deemed public forums for the campus community, and public institutions of higher education shall not create 'free speech zones' or other designated areas of campus outside of which expressive activities are prohibited for the campus community.: 12.634615384615385, (c) Public institutions of higher education may maintain and enforce reasonable time, place, and manner restrictions for the campus community narrowly tailored in service of a significant institutional interest only when such restrictions employ clear, published, content- and viewpoint-neutral criteria, and provide for ample alternative means of expression.: 5.903846153846152, Any such restrictions shall allow for members of the campus community to spontaneously and contemporaneously assemble and distribute literature.: 1.6346153846153846, Nothing in this Code section shall be interpreted as limiting the right of student expression elsewhere on campus.: 2.230769230769231, (d) Protected expressive activity under this Code section consists of speech and other conduct protected by the First Amendment to the United States Constitution, including, but not limited to, lawful verbal, written, audio-visual, or electronic expression by which individuals may communicate ideas to one another, including all forms of peaceful assembly, distributing literature, carrying signs, circulating petitions, demonstrations, protests, and speeches including those by guest speakers.: 5.307692307692305, (e) Any person who wishes to engage in noncommercial expressive activity in an unrestricted outdoor area of campus shall be permitted to do so freely, as long as the person's conduct is not unlawful and does not materially and substantially disrupt the functioning of the public institution of higher education, subject to restrictions lawfully imposed under subsections (c) and (d) of this Code section.: 8.0, Nothing in this Code section shall be construed to make the unrestricted areas of campus into a designated public forum for persons who are not members of the campus community.: 4.230769230769231, H. B. 1 (SUB) - 8 -  LC 49 0477S (f) Nothing in this Code section shall be interpreted as preventing public institutions of higher education from prohibiting student on student harassment as defined in this Code section; from complying with federal and state laws prohibiting discrimination and harassment; or from prohibiting, limiting, or restricting expression that is not protected under the Georgia Constitution or the First Amendment to the United States Constitution, including, but not limited to, true threats or expressive activity directed to provoke imminent lawless actions and likely to produce it.: 11.057692307692301, (g) Nothing in this Code section shall enable individuals to engage in conduct that materially and substantially disrupts another's expressive activity that is occurring in an unrestricted outdoor area of campus or a campus space reserved for that activity under the exclusive use or control of a particular group.: 5.596153846153845, (h) Public institutions of higher education shall make public in their handbooks, on their websites, and through their orientation programs for students the policies, regulations, and expectations of students regarding free expressive activity on campus consistent with this Code section.: 7.249999999999999, (i) Public institutions of higher education shall develop materials, programs, and procedures to ensure that those persons who have responsibility for discipline or education of students, such as administrators, campus police officers, residence life officials, and professors, understand the policies, regulations, and duties of public institutions of higher education regarding expressive activity on campus consistent with this Code section.: 11.615384615384615, (j) The State Board of the Technical College System of Georgia shall make and publish an annual report and provide a copy to the Governor and each chamber of the General Assembly on July 1 of each year addressing the following from the previous calendar year: (1) Any barriers to, or disruptions of, free expression within public institutions of higher education; (2) Administrative response and discipline relating to violation of regulations and policies established pursuant to Code Section 20-3-48; H. B. 1 (SUB) - 9 -  LC 49 0477S (3) Actions taken by public institutions of higher education, including difficulties, controversies, or successes, in maintaining a posture of administrative and institutional neutrality with regard to political or social issues; and (4) Any assessments, criticisms, commendations, or recommendations the board of regents deems appropriate to further include in the report.: 12.288461538461537, SECTION 5.: 0.11538461538461539, This Act shall become effective on July 1, 2021.: 0.15384615384615385, SECTION 6.: 0.11538461538461539, All laws and parts of laws in conflict with this Act are repealed.: 0.3076923076923077, H. B. 1 (SUB) - 10 -: 0.576923076923077}\n"
     ]
    }
   ],
   "source": [
    "sent_strength={}\n",
    "for sent in doc.sents:\n",
    "    for word in sent:\n",
    "        if word.text in freq_word.keys():\n",
    "            if sent in sent_strength.keys():\n",
    "                sent_strength[sent]+=freq_word[word.text]\n",
    "            else:\n",
    "                sent_strength[sent]=freq_word[word.text]\n",
    "print(sent_strength)"
   ]
  },
  {
   "cell_type": "code",
   "execution_count": 14,
   "id": "ee450729-684e-4fce-98b5-d9b72d1c7cc7",
   "metadata": {},
   "outputs": [
    {
     "name": "stdout",
     "output_type": "stream",
     "text": [
      "[The House Committee on Higher Education offers the following substitute to HB 1: A BILL TO BE ENTITLED AN ACT To amend Title 20 of the Official Code of Georgia Annotated, relating to education generally, so as to provide for public forums at public institutions of higher education within the University System of Georgia and the Technical College System of Georgia for the campus community; to prevent the creation of \"free speech zones\" at such public institutions of higher education; to allow for reasonable, content- and viewpoint-neutral, and narrowly-tailored time, place, and manner restrictions on expressive activity at public institutions of higher education; to prohibit material and substantial disruption of protected expressive activity at public institutions of higher education; to prohibit such public institutions of higher education from denying benefits to or otherwise discriminating against a student organization on the basis of the student organization's religious, political, or ideological positions; to require public institutions of higher education to provide public notice of rules and expectations regarding expressive activity; to require public institutions of higher education to develop materials, programs, and procedures related to expressive activity; to provide for a short title; to provide for definitions; to provide for related matters; to provide for an effective date; to repeal conflicting laws; and for other purposes., (a) As used in this Code section, the term: (1) 'Benefit' means any of the following conferred upon a student or student organization by a public institution of higher education: recognition; registration; the use of facilities of the public institution of higher education for purposes of meetings or other expressive activity; the use of channels of communication of the public institution of higher education; or funding sources that are otherwise available to other students or student organizations at the public institution of higher education., (b) As used in this part, the term: (1) 'Benefit' means any of the following conferred upon a student or student organization by a public institution of higher education: recognition; registration; the use of facilities of the public institution of higher education for purposes of meetings or other expressive activity; the use of channels of communication of the public institution of higher education; or funding sources that are otherwise available to other students or student organizations at the public institution of higher education.]\n"
     ]
    }
   ],
   "source": [
    "summarized_sentences = nlargest(3, sent_strength, key=sent_strength.get)\n",
    "print(summarized_sentences)"
   ]
  },
  {
   "cell_type": "code",
   "execution_count": 15,
   "id": "af993033-accf-46e9-ac8b-956443ab9082",
   "metadata": {},
   "outputs": [
    {
     "name": "stdout",
     "output_type": "stream",
     "text": [
      "The House Committee on Higher Education offers the following substitute to HB 1: A BILL TO BE ENTITLED AN ACT To amend Title 20 of the Official Code of Georgia Annotated, relating to education generally, so as to provide for public forums at public institutions of higher education within the University System of Georgia and the Technical College System of Georgia for the campus community; to prevent the creation of \"free speech zones\" at such public institutions of higher education; to allow for reasonable, content- and viewpoint-neutral, and narrowly-tailored time, place, and manner restrictions on expressive activity at public institutions of higher education; to prohibit material and substantial disruption of protected expressive activity at public institutions of higher education; to prohibit such public institutions of higher education from denying benefits to or otherwise discriminating against a student organization on the basis of the student organization's religious, political, or ideological positions; to require public institutions of higher education to provide public notice of rules and expectations regarding expressive activity; to require public institutions of higher education to develop materials, programs, and procedures related to expressive activity; to provide for a short title; to provide for definitions; to provide for related matters; to provide for an effective date; to repeal conflicting laws; and for other purposes. (a) As used in this Code section, the term: (1) 'Benefit' means any of the following conferred upon a student or student organization by a public institution of higher education: recognition; registration; the use of facilities of the public institution of higher education for purposes of meetings or other expressive activity; the use of channels of communication of the public institution of higher education; or funding sources that are otherwise available to other students or student organizations at the public institution of higher education. (b) As used in this part, the term: (1) 'Benefit' means any of the following conferred upon a student or student organization by a public institution of higher education: recognition; registration; the use of facilities of the public institution of higher education for purposes of meetings or other expressive activity; the use of channels of communication of the public institution of higher education; or funding sources that are otherwise available to other students or student organizations at the public institution of higher education.\n"
     ]
    }
   ],
   "source": [
    "final_sentences = [ w.text for w in summarized_sentences ]\n",
    "summary = ' '.join(final_sentences)\n",
    "print(summary)"
   ]
  },
  {
   "cell_type": "code",
   "execution_count": null,
   "id": "fd25bf9c-77a6-4ea3-8c15-b020081f0a0b",
   "metadata": {},
   "outputs": [],
   "source": []
  }
 ],
 "metadata": {
  "kernelspec": {
   "display_name": "Python 3 (ipykernel)",
   "language": "python",
   "name": "python3"
  },
  "language_info": {
   "codemirror_mode": {
    "name": "ipython",
    "version": 3
   },
   "file_extension": ".py",
   "mimetype": "text/x-python",
   "name": "python",
   "nbconvert_exporter": "python",
   "pygments_lexer": "ipython3",
   "version": "3.9.5"
  }
 },
 "nbformat": 4,
 "nbformat_minor": 5
}
